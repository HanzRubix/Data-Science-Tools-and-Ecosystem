{
 "cells": [
  {
   "cell_type": "markdown",
   "id": "19a2e7e4-4d24-4274-bd8d-e2433c7ff1b3",
   "metadata": {},
   "source": [
    "# Data Science Tools and Ecosystem"
   ]
  },
  {
   "cell_type": "markdown",
   "id": "a6e24519-9e95-414a-b96b-8ac4e11dc444",
   "metadata": {},
   "source": [
    "This notebook provides an overview of Data Science tools and ecosystem."
   ]
  },
  {
   "cell_type": "markdown",
   "id": "3f550a96-7957-4714-8307-272c09e167f1",
   "metadata": {},
   "source": [
    "##### Several programming languages commonly used by Data Scientists are:"
   ]
  },
  {
   "cell_type": "markdown",
   "id": "c6b31653-b62a-469e-b403-6f4cc11804b6",
   "metadata": {},
   "source": [
    "1. Python\n",
    "2. R\n",
    "3. SQL\n",
    "4. Scala\n",
    "5. Java\n",
    "6. C++\n",
    "7. Julia"
   ]
  },
  {
   "cell_type": "markdown",
   "id": "7ab039ae-711c-46f1-81c5-4624b9ff3fe2",
   "metadata": {},
   "source": [
    "##### Several commonly used libraries by Data Scientists are:"
   ]
  },
  {
   "cell_type": "markdown",
   "id": "b89d14e8-db11-4bca-acc7-5328d82acae7",
   "metadata": {},
   "source": [
    "1. Pandas\n",
    "2. NumPy\n",
    "3. SciPy\n",
    "4. Matplotlib\n",
    "5. ggplot2\n",
    "6. Keras\n",
    "7. TensorFlow\n"
   ]
  },
  {
   "cell_type": "markdown",
   "id": "2fdd4f67-c2b8-49dc-af51-a54c4f2ff735",
   "metadata": {},
   "source": [
    "##### Open Source Tools Commonly Used in Data Science"
   ]
  },
  {
   "cell_type": "markdown",
   "id": "a868ab2e-d44a-4bb7-b632-71c3369a3f40",
   "metadata": {},
   "source": [
    "| Data Science Tools |\n",
    "|--------------------|\n",
    "|Jupyter Notebook    |\n",
    "|Rstudio             |\n",
    "| Apache Spark       |"
   ]
  },
  {
   "cell_type": "markdown",
   "id": "acadfe79-f8ea-4f1b-9336-6d052d3a49a6",
   "metadata": {},
   "source": [
    "### Here are some examples of how to evaluate arithmetic expressions in Python."
   ]
  },
  {
   "cell_type": "code",
   "execution_count": 4,
   "id": "999828a5-e9b4-4c34-9a83-61c7f0fd045f",
   "metadata": {},
   "outputs": [
    {
     "data": {
      "text/plain": [
       "17"
      ]
     },
     "execution_count": 4,
     "metadata": {},
     "output_type": "execute_result"
    }
   ],
   "source": [
    "# This is a simple arithmetic expression to multiply 3 by 4 and then add 5.\n",
    "(3*4) + 5"
   ]
  },
  {
   "cell_type": "code",
   "execution_count": 5,
   "id": "41a8151e-989b-44a4-93ed-8ff1c96255b7",
   "metadata": {},
   "outputs": [
    {
     "data": {
      "text/plain": [
       "3.3333333333333335"
      ]
     },
     "execution_count": 5,
     "metadata": {},
     "output_type": "execute_result"
    }
   ],
   "source": [
    "# This will convert 200 minutes to hours by dividing by 60\n",
    "200/60"
   ]
  },
  {
   "cell_type": "markdown",
   "id": "acc15a21-3b81-4073-8fe2-9bfb6ae4812e",
   "metadata": {},
   "source": [
    "**Objetives:**\n",
    "\n",
    "- List popular programming languages used in Data Science.\n",
    "- List commonly used libraries for Data Science.\n",
    "- Name three open source tools commonly used in Data Science.\n",
    "- Demostrate the use of aritmetic expressions in Python.\n",
    "- Convert units using simple Python expressions."
   ]
  },
  {
   "cell_type": "markdown",
   "id": "b06f7002-af63-44e0-8268-1c03ac5e5137",
   "metadata": {},
   "source": [
    "## Autor\n",
    "Matias Correa G"
   ]
  },
  {
   "cell_type": "code",
   "execution_count": null,
   "id": "fa7ba2ff-c074-4f01-9d1b-36de4aabce41",
   "metadata": {},
   "outputs": [],
   "source": []
  }
 ],
 "metadata": {
  "kernelspec": {
   "display_name": "Python 3 (ipykernel)",
   "language": "python",
   "name": "python3"
  },
  "language_info": {
   "codemirror_mode": {
    "name": "ipython",
    "version": 3
   },
   "file_extension": ".py",
   "mimetype": "text/x-python",
   "name": "python",
   "nbconvert_exporter": "python",
   "pygments_lexer": "ipython3",
   "version": "3.11.9"
  }
 },
 "nbformat": 4,
 "nbformat_minor": 5
}
